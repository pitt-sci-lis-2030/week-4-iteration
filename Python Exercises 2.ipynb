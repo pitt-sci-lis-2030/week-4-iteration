{
 "cells": [
  {
   "cell_type": "markdown",
   "id": "d1bb9efa-a948-4341-8568-363953447045",
   "metadata": {},
   "source": [
    "# Exercises - Week 5 \n",
    "\n",
    "In this exercise you will practice the following five problems:\n",
    "\n",
    "1. Creating and iterating over lists\n",
    "2. Indexing Strings and Type Conversion\n",
    "3. Boolean Expressions and Conditional Statements\n",
    "4. Control Flow \n",
    "5. Writing Functions\n",
    "\n"
   ]
  },
  {
   "cell_type": "markdown",
   "id": "759c93fd-08cb-413a-b5c5-b6a91fc51fe5",
   "metadata": {},
   "source": [
    "## 1. Loops, Lists, and Strings\n",
    "\n",
    "Happy Lunar New Year! It is the [Year of the Tiger!](https://en.wikipedia.org/wiki/Tiger_(zodiac)https://en.wikipedia.org/wiki/Tiger_(zodiac))\n",
    "\n",
    "Write Python code that creates a list of names and wishes happy New Year to each name in the list. First, you will need to create a Python list that contains at least three names. Then using a `for` loop, print out the message `Happy New Year <nameOfFriend>!` for each friend in the list (replacing nameOfFriend with the names in your list). \n",
    "\n",
    "**Hint:** Be sure to print a proper sentence including punctuation!"
   ]
  },
  {
   "cell_type": "code",
   "execution_count": null,
   "id": "98988d40-7a56-44c6-86bd-05e00b8bfb3c",
   "metadata": {},
   "outputs": [],
   "source": [
    "# Write your function here\n",
    "\n"
   ]
  },
  {
   "cell_type": "markdown",
   "id": "6cf9d280-3e70-407a-901c-265b78036bed",
   "metadata": {},
   "source": [
    "## 2. List Methods and Indexing\n",
    "\n",
    "Below is a list of numbers.  In the list they are out of order.  You need to write a Python code that prints the smallest number.\n",
    "\n",
    "To do this, one could use a loop. You could check each element of the list and keep track of the smallest.  However, thanks to list methods, we can write a code that does not need loops.  Python lists have [several methods](https://www.w3schools.com/python/python_ref_list.asp).  One methods is called `sort()` which simply sorts the list according to the convention of the data types in the list (e.g. it will sort integers and floats ordinally).  Once you sort the list, you can use list indexing to get the first item of a list and print it."
   ]
  },
  {
   "cell_type": "code",
   "execution_count": null,
   "id": "65d8189c-79d7-4393-b5d9-c74165ed97fe",
   "metadata": {},
   "outputs": [],
   "source": [
    "number_list = [5,9,1,-7,0,3,6,-1,8]\n",
    "\n",
    "# your code goes here\n"
   ]
  },
  {
   "cell_type": "markdown",
   "id": "b48c9fb3-8676-4455-8e86-fecc4f804265",
   "metadata": {
    "tags": []
   },
   "source": [
    "## 3. Boolean Expressions & Conditional Statements\n",
    "\n",
    "Run the code in the cell below and consider the output:"
   ]
  },
  {
   "cell_type": "code",
   "execution_count": null,
   "id": "e3437595-29b8-47fe-831f-3ae4a9dde2b1",
   "metadata": {},
   "outputs": [],
   "source": [
    "x = 30\n",
    "if x < 30 :\n",
    "    x = 20\n",
    "    x += 5\n",
    "print (x)"
   ]
  },
  {
   "cell_type": "markdown",
   "id": "29127d68-49e1-43f1-8ee7-90f45d1f1271",
   "metadata": {},
   "source": [
    "**2.1** Explain using human language, in the markdown cell below, how the program evaluated the result. Walk through each line of code and explain what is happening from a computational perspective. Describe the variables created and how each line of code changes the value of the variables and calculates the final result. "
   ]
  },
  {
   "cell_type": "markdown",
   "id": "37d829d2-f610-411c-95c5-101ff665c79e",
   "metadata": {},
   "source": []
  },
  {
   "cell_type": "markdown",
   "id": "0a5332a7-952c-468e-b90f-739b29d4a195",
   "metadata": {},
   "source": [
    "**2.2** Consider how a minor change in the code can dramatically change the result. Is it possible to get the result of 35 by changing the indentation of only single line?  Which line's indentation would you change to get a result of 35?  How did this change the computation as described in the code cell above? Explain in the markdown cell below."
   ]
  },
  {
   "cell_type": "markdown",
   "id": "1c95fa8c-2486-4221-b438-e77c389316c5",
   "metadata": {},
   "source": []
  },
  {
   "cell_type": "markdown",
   "id": "b81b9173-948d-4c13-99a4-c0d5c6c2ff3a",
   "metadata": {},
   "source": [
    "##  4. Control Flow\n",
    "\n",
    "It is the middle of a global pandemic and a new vaccine has been discovered, unfortunately there is a limited supply and so the vaccine should be primarly distributed to at risk populations; people over the age of 65 or medical professionals. The code below is supposed to determine vaccine eligibility, but it is broken!\n",
    "\n",
    "Modify the code below by changing line 4's conditional statements so that the program functions correctly.  Specifically it will output `You can get the vaccine!` if the variables are set to indicates the person is old enough (65+) or is a health worker.\n",
    "\n",
    "**Hint:** Be sure to try substituting different values for `myAge` and `medicalWorker` to test your answer! "
   ]
  },
  {
   "cell_type": "code",
   "execution_count": null,
   "id": "c28a094f-ea03-428f-88ff-a6e50fa29355",
   "metadata": {},
   "outputs": [],
   "source": [
    "myAge = 40\n",
    "medicalWorker = False\n",
    "\n",
    "if (myAge == 65 and medicalWorker) :     # THIS IS LINE 4\n",
    "    print(\"You can get the vaccine!\")\n",
    "else :\n",
    "    print(\"You are not eligible for the vaccine.\")\n"
   ]
  },
  {
   "cell_type": "markdown",
   "id": "b510d826-de59-4e04-a1a6-d03ffea08eac",
   "metadata": {
    "tags": []
   },
   "source": [
    "## 5. Writing Functions\n",
    "\n",
    "Oh no! The Fern Hollow Bridge has collapsed!\n",
    "\n",
    "![fern hollow bridge collapse](https://upload.wikimedia.org/wikipedia/commons/thumb/e/e1/Fern_Hollow_Bridge_after_collapse_on_28_Jan_2022.jpg/640px-Fern_Hollow_Bridge_after_collapse_on_28_Jan_2022.jpg)\n",
    "\n",
    "We need to find a new way to get to Oakland from the East End. To help us find a new route, we are going to create a function that allows us to calcuate the time it will take to go a particular distance when going a particular speed.\n",
    "\n",
    "This function will help us calculate the trip time for the following three scenarios:\n",
    "\n",
    "* A walking trip of 10 miles, traveling at 8 m.p.h. (worlds fastest walker)\n",
    "* A bike trip of 5 miles, traveling at 15 m.p.h. (going downhill)\n",
    "* A car trip of 1000 miles, traveling at 95 m.p.h. (yeah, don't tell ;-))\n",
    "\n",
    "This question has three parts. Hang in there!"
   ]
  },
  {
   "cell_type": "markdown",
   "id": "32236cc8-8c2f-4845-a033-aee3bf975bdd",
   "metadata": {
    "tags": []
   },
   "source": [
    "#### 5.1 Define a function\n",
    "\n",
    "First, write a function called `tripTime` that can be used to compute travel time given two integer arguments, `distance` and `speed`. You can assume the distance is in miles and the speed is miles per hour. In the function block, calculate the time in minutes based on the `distance` and `speed` input values. Use the `return` keyword to output the calulated time *as an integer number*.\n",
    "\n",
    "**Hint:** Remember to return the correct data type for the value at the end of your function!"
   ]
  },
  {
   "cell_type": "code",
   "execution_count": null,
   "id": "62ddc9d6-6379-40f9-9f6e-6aff6af66905",
   "metadata": {},
   "outputs": [],
   "source": [
    "#write your function here:\n",
    "\n"
   ]
  },
  {
   "cell_type": "markdown",
   "id": "ade34151-26b8-4516-8e89-892b8a0ae306",
   "metadata": {},
   "source": [
    "#### 5.2 Testing Functions\n",
    "\n",
    "It is always a good idea to test your Python functions to ensure they are working correctly. To do this, we will compare the output of your function with a known correct value based upon particular inputs. So in this case, we know it will take 75 minutes to travel 10 miles when walking quite briskly at 8 miles per hour. We can write Python code to test and see if our `tripTime` function also outputs the value 75.\n",
    "\n",
    "The following code cell will test your `tripTime` function with three different inputs and check to see if the output is correct using an `if` statement. Each test executes the `tripTime` function with different arguments and checks to see if the output is equals the correct value.\n",
    "\n",
    "Run the code cell below. If your function is working correctly then you should see the following output:\n",
    "```\n",
    "Test 1 passed!\n",
    "Test 2 passed!\n",
    "Test 3 passed!\n",
    "```\n",
    "\n",
    "**HINT**: You don't need to modify the code below, but if you don't see that all three tests pass then you should modify your function definition above."
   ]
  },
  {
   "cell_type": "code",
   "execution_count": null,
   "id": "45d9f6a7-101e-4261-bbf3-c783f5560a60",
   "metadata": {},
   "outputs": [],
   "source": [
    "# Test your function\n",
    "\n",
    "\n",
    "test1 = tripTime(10,8)\n",
    "if test1 == 75:\n",
    "    print(\"Test 1 passed!\")\n",
    "\n",
    "test2 = tripTime(5,15)\n",
    "if test2 == 20:\n",
    "    print(\"Test 2 passed!\")\n",
    "\n",
    "test3 = tripTime(1000,95)\n",
    "if test3 == 631:\n",
    "    print(\"Test 3 passed!\")\n"
   ]
  },
  {
   "cell_type": "markdown",
   "id": "4eb17eb2-e1f8-4bd7-9ec0-1de8c47d44b1",
   "metadata": {},
   "source": [
    "#### 5.3 Output for Humans\n",
    "\n",
    "Now that you have your `tripTime` function, we are going to use it to write Python code that automatically write human text. Using string concatenation, write three `print` statements that display the output of your function as part of a human readable sentence.\n",
    "\n",
    "The output should look like this:\n",
    "```\n",
    "A walking trip of 10 miles, traveling at 8 m.p.h. would take 48 minutes.\n",
    "A bike trip of 5 miles, traveling at 15 m.p.h. would take 20 minutes.\n",
    "A driving trip of 1000 miles, traveling at 95 m.p.h. would take 631 minutes.\n",
    "```\n",
    "\n",
    "**HINT**: Pay attention to the data types when concatinating strings.\n"
   ]
  },
  {
   "cell_type": "code",
   "execution_count": null,
   "id": "c3699257-4ccd-4f06-a939-372c30e8fa9b",
   "metadata": {},
   "outputs": [],
   "source": [
    "# write print statements here\n",
    "\n"
   ]
  }
 ],
 "metadata": {
  "kernelspec": {
   "display_name": "Python 3 (ipykernel)",
   "language": "python",
   "name": "python3"
  },
  "language_info": {
   "codemirror_mode": {
    "name": "ipython",
    "version": 3
   },
   "file_extension": ".py",
   "mimetype": "text/x-python",
   "name": "python",
   "nbconvert_exporter": "python",
   "pygments_lexer": "ipython3",
   "version": "3.8.8"
  }
 },
 "nbformat": 4,
 "nbformat_minor": 5
}
