{
 "cells": [
  {
   "cell_type": "markdown",
   "metadata": {},
   "source": [
    "# Week 4 Exercises"
   ]
  },
  {
   "cell_type": "markdown",
   "metadata": {},
   "source": [
    "You have five exercises this week covering different elements of the lecture and readings.\n",
    "\n",
    "1. Iteration\n",
    "2. Loop\n",
    "3. Lists Concatination\n",
    "4. Lists and Iteration\n",
    "4. Debugging Lists\n",
    "\n",
    "\n"
   ]
  },
  {
   "cell_type": "markdown",
   "metadata": {},
   "source": [
    "\n",
    "### Iteration "
   ]
  },
  {
   "cell_type": "markdown",
   "metadata": {},
   "source": [
    "**Q1**: Write a program that counts from -10 to -1 using a `for` loop.\n",
    "\n",
    "*  **Hint**: Consider using the `range()` function"
   ]
  },
  {
   "cell_type": "code",
   "execution_count": null,
   "metadata": {},
   "outputs": [],
   "source": [
    "#insert your code here"
   ]
  },
  {
   "cell_type": "code",
   "execution_count": null,
   "metadata": {},
   "outputs": [],
   "source": []
  },
  {
   "cell_type": "markdown",
   "metadata": {},
   "source": [
    "**Q2**: Using a `while` loop, write a program that counts from 0 to 20 in steps of 2. Your program should print the count at each step as well as a statement `I finished the counting!` when the loop completes.\n",
    "\n"
   ]
  },
  {
   "cell_type": "code",
   "execution_count": null,
   "metadata": {},
   "outputs": [],
   "source": [
    "# insert your code here"
   ]
  },
  {
   "cell_type": "markdown",
   "metadata": {},
   "source": [
    "### Concatinating lists using for loops "
   ]
  },
  {
   "cell_type": "markdown",
   "metadata": {},
   "source": [
    "**Q3**: Take a look at the Wikipedia entry on the [tallest educational buildings in the world.](https://en.wikipedia.org/wiki/List_of_tallest_educational_buildings) Write a program to do the following:\n",
    "* Step 1: Make two Python lists, one of the four tallest buildings and one of the four shortest buildings, and make two lists.\n",
    "* Step 2: Using `for` loop to concatenate the two building lists into a single list.\n",
    "\n",
    "The expected output shoud look something like this:\n",
    "```python\n",
    "['Main Building', 'Mode Gakuen Cocoon Tower', 'Mode Gakuen Spiral Towers', 'Cathedral of Learning', 'Franklin Delano Roosevelt Tower', 'Jesse Hall', 'B Block', 'HKU SPACE Po Leung Kuk Community College Building']\n",
    "```\n",
    "\n",
    "* **Hint**: Consider using the `append()` function"
   ]
  },
  {
   "cell_type": "code",
   "execution_count": null,
   "metadata": {},
   "outputs": [],
   "source": [
    "#insert your code here"
   ]
  },
  {
   "cell_type": "markdown",
   "metadata": {},
   "source": [
    "**Q4**: Write a **function** that takes a string as a parameter and returns a list of words with an even number of characters. Test your function with your favorite movie quotes. For example:\n",
    "\n",
    "The quote \"*may the force be with you*\" should return `['be', 'with']`\n",
    "\n",
    "The quote \"*It does not do well to dwell on dreams and forget to live*\" should return `['It', 'does', 'do', 'well', 'to', 'on', 'dreams', 'forget', 'to', 'live']`\n"
   ]
  },
  {
   "cell_type": "code",
   "execution_count": null,
   "metadata": {},
   "outputs": [],
   "source": [
    "#insert your code "
   ]
  },
  {
   "cell_type": "markdown",
   "metadata": {},
   "source": [
    "### Debugging Lists"
   ]
  },
  {
   "cell_type": "markdown",
   "metadata": {},
   "source": [
    "The function checks the length of a list. The function `list_length_checker` takes two parameters, an integer indicating the length of the list and a list to check. There are a few things wrong with the code below. When the cell is executed it throws an error. Your task is to identify the error(s) and fix it. The output should look something like this:\n",
    "\n",
    "```\n",
    "Lily\n",
    "Bob\n",
    "Tim\n",
    "Nova\n",
    "You want 6 names. You only have 4 names.\n",
    "```\n",
    "\n",
    "* **Hint**: Watch out for infinite loops!"
   ]
  },
  {
   "cell_type": "code",
   "execution_count": null,
   "metadata": {},
   "outputs": [],
   "source": [
    "def list_length_checker(expected_length, name_list):\n",
    "    i = 0\n",
    "    number_of_names = len(name_list)\n",
    "    while i < expected_length:\n",
    "        if (i < number_of_names):\n",
    "            print=(name_list[i])\n",
    "        else:\n",
    "            print=(\"You want \"+str(expected_length)+\" names. You only have \"+str(number_of_names)+\" names.\")\n",
    "            break\n",
    "    i += 1\n",
    "\n",
    "list_of_names = [\"Lily\",\"Bob\",\"Tim\",\"Nova\"]\n",
    "list_length_checker(6, list_of_names)"
   ]
  },
  {
   "cell_type": "code",
   "execution_count": null,
   "metadata": {},
   "outputs": [],
   "source": []
  },
  {
   "cell_type": "code",
   "execution_count": null,
   "metadata": {},
   "outputs": [],
   "source": []
  }
 ],
 "metadata": {
  "kernelspec": {
   "display_name": "Python 3",
   "language": "python",
   "name": "python3"
  },
  "language_info": {
   "codemirror_mode": {
    "name": "ipython",
    "version": 3
   },
   "file_extension": ".py",
   "mimetype": "text/x-python",
   "name": "python",
   "nbconvert_exporter": "python",
   "pygments_lexer": "ipython3",
   "version": "3.6.6+"
  }
 },
 "nbformat": 4,
 "nbformat_minor": 4
}
