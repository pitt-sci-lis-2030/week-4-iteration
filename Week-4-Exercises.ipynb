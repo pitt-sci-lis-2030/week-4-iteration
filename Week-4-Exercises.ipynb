{
 "cells": [
  {
   "cell_type": "markdown",
   "metadata": {},
   "source": [
    "# Week 4 Exercises"
   ]
  },
  {
   "cell_type": "markdown",
   "metadata": {},
   "source": [
    "You have five exercises this week covering different elements of the lecture and readings.\n",
    "\n",
    "1. Iteration\n",
    "2. Loop\n",
    "3. Lists Concatination\n",
    "4. Lists and Iteration\n",
    "4. Debugging Lists\n",
    "\n",
    "\n"
   ]
  },
  {
   "cell_type": "markdown",
   "metadata": {},
   "source": [
    "\n",
    "### Iteration "
   ]
  },
  {
   "cell_type": "markdown",
   "metadata": {},
   "source": [
    "**Q1**: Count from -10 to -1 using a `for` loop.\n",
    "*  Hint: Your program should print the count from -10 to -1\n"
   ]
  },
  {
   "cell_type": "code",
   "execution_count": null,
   "metadata": {},
   "outputs": [],
   "source": [
    "#insert your code here"
   ]
  },
  {
   "cell_type": "code",
   "execution_count": null,
   "metadata": {},
   "outputs": [],
   "source": []
  },
  {
   "cell_type": "markdown",
   "metadata": {},
   "source": [
    "**Q2**: Using a `while` loop, write a program that counts forwards from 0 to 20 in steps of 2.  \n",
    "* Your program should print the count at each step as well as a statement `I finished the counting!` when the loop completes.\n"
   ]
  },
  {
   "cell_type": "code",
   "execution_count": null,
   "metadata": {},
   "outputs": [],
   "source": [
    "# insert your code here"
   ]
  },
  {
   "cell_type": "markdown",
   "metadata": {},
   "source": [
    "### Concatinating lists using for loops "
   ]
  },
  {
   "cell_type": "markdown",
   "metadata": {},
   "source": [
    "**Q3**: Take a look at the [tallest educational buildings ranking](https://en.wikipedia.org/wiki/List_of_tallest_educational_buildings) list\n",
    "* Step 1: Find the four tallest buildings and four shortest buildings, and make two lists. One list contains four tallest buildings，another list contains four shortest buildings.\n",
    "* Step 2: Using `for` loop to concatenate the two building lists.\n",
    "\n",
    "The expected output shoud look something like this:\n",
    "\n",
    "['Main Building', 'Mode Gakuen Cocoon Tower', 'Mode Gakuen Spiral Towers', 'Cathedral of Learning', 'Franklin Delano Roosevelt Tower', 'Jesse Hall', 'B Block', 'HKU SPACE Po Leung Kuk Community College Building']\n",
    "\n",
    "**Hint**: use the `append()` method."
   ]
  },
  {
   "cell_type": "code",
   "execution_count": null,
   "metadata": {},
   "outputs": [],
   "source": [
    "#insert your code here"
   ]
  },
  {
   "cell_type": "markdown",
   "metadata": {},
   "source": [
    "**Q4**: Write a **function** that takes in a string that contains your favorite movie quote and return a list of only the words in the quote that have an even number of characters. For example:\n",
    "\n",
    "\"may the force be with you\" --> ['be', 'with']\n",
    "\n"
   ]
  },
  {
   "cell_type": "code",
   "execution_count": null,
   "metadata": {},
   "outputs": [],
   "source": [
    "#insert your code "
   ]
  },
  {
   "cell_type": "markdown",
   "metadata": {},
   "source": [
    "### Debugging Lists"
   ]
  },
  {
   "cell_type": "markdown",
   "metadata": {},
   "source": [
    "There are a few things wrong with the code below. When the cell is executed it throws an error. Your task is to identify the error(s) and fix it. The output should look something like this:\n",
    "\n",
    "Lily\\\n",
    "Bob\\\n",
    "Tim"
   ]
  },
  {
   "cell_type": "code",
   "execution_count": null,
   "metadata": {},
   "outputs": [],
   "source": [
    "def loop_function(numbers,myArray):\n",
    "    i = 0\n",
    "    lenArray = len(myArray)\n",
    "    while i < numbers:\n",
    "        if (i < lenArray):\n",
    "            print=(myArray[i])\n",
    "        else:\n",
    "            print=(\"You want \"+str(numbers)+\" names. You only have \"+str(lenArray)+\" names.\")\n",
    "            break\n",
    "    i =+ 1\n",
    "\n",
    "myArray = [\"Lily\",\"Bob\",\"Tim\",\"Nova\"]\n",
    "loop_function(6,myArray)"
   ]
  },
  {
   "cell_type": "code",
   "execution_count": null,
   "metadata": {},
   "outputs": [],
   "source": []
  },
  {
   "cell_type": "code",
   "execution_count": null,
   "metadata": {},
   "outputs": [],
   "source": []
  }
 ],
 "metadata": {
  "kernelspec": {
   "display_name": "Python 3",
   "language": "python",
   "name": "python3"
  },
  "language_info": {
   "codemirror_mode": {
    "name": "ipython",
    "version": 3
   },
   "file_extension": ".py",
   "mimetype": "text/x-python",
   "name": "python",
   "nbconvert_exporter": "python",
   "pygments_lexer": "ipython3",
   "version": "3.6.6+"
  }
 },
 "nbformat": 4,
 "nbformat_minor": 4
}
