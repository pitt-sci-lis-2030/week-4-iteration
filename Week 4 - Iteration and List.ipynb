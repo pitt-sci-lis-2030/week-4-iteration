{
 "cells": [
  {
   "cell_type": "markdown",
   "metadata": {},
   "source": [
    "# Iteration\n",
    "\n",
    "* Computers are really effective tools to do repetitive tasks\n",
    "    * Example: Add values to a series of numbers\n",
    "    * Example: Chain a series of string together\n",
    "    * Example: Compute the differences between items in list of values\n",
    "* The challenge in writing code that iterates is breaking down the computational problem into the pieces that need to be repeated and then placing supporting code around that iteration to control flow.\n",
    "* There are many ways to approach iteration. We will learn two the `while` and the `for` loops."
   ]
  },
  {
   "cell_type": "markdown",
   "metadata": {},
   "source": [
    "## The `while` loop\n",
    "\n",
    "* These loops will continue to iterate until a conditional expression is `false`\n",
    "* These behave logically like an `if` statement that just keeps going and going as long as the `if` condition is true.\n",
    "![gif of the energizer bunny](https://media0.giphy.com/media/l4hLCHEdxOGxMcWFG/giphy.gif?cid=ecf05e472qmwtvj1ey2xw8j8p4ymnyhtjr1mihzpf812q4oq&rid=giphy.gif&ct=g)\n",
    "    "
   ]
  },
  {
   "cell_type": "code",
   "execution_count": null,
   "metadata": {},
   "outputs": [],
   "source": [
    "n = 5\n",
    "if n >=  0 :\n",
    "    print(n)"
   ]
  },
  {
   "cell_type": "code",
   "execution_count": null,
   "metadata": {},
   "outputs": [],
   "source": [
    "n = 5\n",
    "while n >=  0 :\n",
    "    print(n)\n",
    "    n -= 1"
   ]
  },
  {
   "cell_type": "markdown",
   "metadata": {},
   "source": [
    "Now that we've seen some examples, let's look at the structure of a `while` loop from a computational thinking perspective:\n",
    "\n",
    "![control flow while](https://www.codingeek.com/wp-content/uploads/2017/01/while-loop.png)\n",
    "\n",
    "(from CodingGeek.com)"
   ]
  },
  {
   "cell_type": "code",
   "execution_count": null,
   "metadata": {},
   "outputs": [],
   "source": [
    "totalBottlesOfBeer = 99\n",
    "stopDrinkingAt = 95\n",
    "\n",
    "while totalBottlesOfBeer > stopDrinkingAt :\n",
    "    print(str(totalBottlesOfBeer) +' bottles of beer on the wall, ' + str(totalBottlesOfBeer) + ' bottles of beer.')\n",
    "    print('Take one down and pass it around, ' + str(totalBottlesOfBeer - 1) + ' bottles of beer on the wall.')\n",
    "    totalBottlesOfBeer -= 1"
   ]
  },
  {
   "cell_type": "markdown",
   "metadata": {},
   "source": [
    "## Careful to not get stuck in an infinite loop!\n",
    "\n",
    "If you do not update the counter in the body of the while loop or change the condition for the while loop to continue, you will enter a infinite loop.  This code will run forever, unless you:\n",
    "* Hit the STOP button\n",
    "* Or go to the Kernel menu and select \"Interrupt Kernel\""
   ]
  },
  {
   "cell_type": "code",
   "execution_count": null,
   "metadata": {},
   "outputs": [],
   "source": [
    "n = 1\n",
    "while True :\n",
    "    if n % 10000000 == 0: \n",
    "        print(n)\n",
    "    if n % 100000000 == 0:\n",
    "        print(\"Ok, you really should hit the stop button\")\n",
    "    n += 1\n",
    "Print('Done!')"
   ]
  },
  {
   "cell_type": "markdown",
   "metadata": {},
   "source": [
    "Rather than updating a counter, you can also use a `break` to control when a loop stops:"
   ]
  },
  {
   "cell_type": "code",
   "execution_count": null,
   "metadata": {},
   "outputs": [],
   "source": [
    "n = 10\n",
    "while True :\n",
    "    print (n)\n",
    "    n-= 1\n",
    "    if n < 0 :\n",
    "        break\n",
    "print('Done!')"
   ]
  },
  {
   "cell_type": "markdown",
   "metadata": {},
   "source": [
    "`continue` can also be used for jumping back to the start of the loop, ignoring remaining code in the block:"
   ]
  },
  {
   "cell_type": "code",
   "execution_count": null,
   "metadata": {},
   "outputs": [],
   "source": [
    "while True :\n",
    "    thereYet = input('Are we there yet? ')\n",
    "    \n",
    "    if(thereYet == 'no' or thereYet == 'No' or thereYet == 'NO') :\n",
    "        continue\n",
    "    \n",
    "    break"
   ]
  },
  {
   "cell_type": "markdown",
   "metadata": {},
   "source": [
    "## The `for` Loop\n",
    "\n",
    "\n",
    "* For loops iterate over content that is in a variable, list, or object.\n",
    "\n",
    "* A `for` loops have a specific structure: \n",
    "\n",
    "    for **iteratator variable** in **series of variables, list, or object**\n",
    "\n",
    "To construct a `for` loop, it's useful to build them with a function call `range`.  This function allows us to create a series of values within a specific range:\n",
    "\n",
    "`range(startValue[optional], stopValue [but not included], increment[optional])`"
   ]
  },
  {
   "cell_type": "code",
   "execution_count": null,
   "metadata": {},
   "outputs": [],
   "source": [
    "for x in range(6):\n",
    "    print(x)"
   ]
  },
  {
   "cell_type": "code",
   "execution_count": null,
   "metadata": {},
   "outputs": [],
   "source": [
    "for x in range(2,6):\n",
    "    print(x)"
   ]
  },
  {
   "cell_type": "code",
   "execution_count": null,
   "metadata": {},
   "outputs": [],
   "source": [
    "for x in range(0, 100, 10):\n",
    "    print(x)"
   ]
  },
  {
   "cell_type": "markdown",
   "metadata": {},
   "source": [
    "In Python, strings can also be treated as a series of values (actually a series of characters):"
   ]
  },
  {
   "cell_type": "code",
   "execution_count": null,
   "metadata": {},
   "outputs": [],
   "source": [
    "for x in \"banana\":\n",
    "    print(x)"
   ]
  },
  {
   "cell_type": "markdown",
   "metadata": {},
   "source": [
    "Now that we've seen some examples, let's look at the structure of a `for` loop from a computational thinking perspective:\n",
    "\n",
    "![control flow for loop](https://www.codingeek.com/wp-content/uploads/2016/12/loop-flow-chart.png)\n",
    "\n",
    "(from CodingGeek.com)"
   ]
  },
  {
   "cell_type": "markdown",
   "metadata": {},
   "source": [
    "To really understand the `for` loop you need to understand Python Lists. So... let's look at lists!"
   ]
  },
  {
   "cell_type": "markdown",
   "metadata": {},
   "source": [
    "## Lists\n",
    "\n",
    "* Used to store multiple items in a single variable.\n",
    "* Items are *ordered*, changeable, and allow duplicate values.\n",
    "* Items are *indexed*, the first item has index [0], the second item has index [1] etc."
   ]
  },
  {
   "cell_type": "code",
   "execution_count": null,
   "metadata": {},
   "outputs": [],
   "source": [
    "listA = [1, 2, 3, 4, 5]\n",
    "print(listA)"
   ]
  },
  {
   "cell_type": "code",
   "execution_count": null,
   "metadata": {},
   "outputs": [],
   "source": [
    "print(listA[3])"
   ]
  },
  {
   "cell_type": "code",
   "execution_count": null,
   "metadata": {},
   "outputs": [],
   "source": [
    "# we can use a special syntax, or \"list lingo\" to identify part of the list\n",
    "print(listA[2:4])"
   ]
  },
  {
   "cell_type": "code",
   "execution_count": null,
   "metadata": {},
   "outputs": [],
   "source": [
    "print(listA[3:])"
   ]
  },
  {
   "cell_type": "code",
   "execution_count": null,
   "metadata": {},
   "outputs": [],
   "source": [
    "print(listA[:3])"
   ]
  },
  {
   "cell_type": "markdown",
   "metadata": {},
   "source": [
    "Unlike native types, lists are mutable!\n",
    "\n",
    "What does mutable mean?  It means they can change value *without* having to assign a new value to a variable name.  Recall that the primitive data types we've seen so far (`int`, `float`, `str`, and `boolean` are immutable.  These means in order to change a variable of those types, we need to assign a new value to those variables. \n",
    "\n",
    "Why does this matter?  It means with lists we can *change them piece by piece*."
   ]
  },
  {
   "cell_type": "code",
   "execution_count": null,
   "metadata": {},
   "outputs": [],
   "source": [
    "print(listA)"
   ]
  },
  {
   "cell_type": "code",
   "execution_count": null,
   "metadata": {},
   "outputs": [],
   "source": [
    "listA[3] = 12\n",
    "print(listA)"
   ]
  },
  {
   "cell_type": "markdown",
   "metadata": {},
   "source": [
    "Unique to Python, lists can be of different value types..."
   ]
  },
  {
   "cell_type": "code",
   "execution_count": null,
   "metadata": {},
   "outputs": [],
   "source": [
    "listB = ['frog', 30.4, 10, 'Mexico']\n",
    "print(listB)"
   ]
  },
  {
   "cell_type": "markdown",
   "metadata": {},
   "source": [
    "Lists can also contain other lists..."
   ]
  },
  {
   "cell_type": "code",
   "execution_count": null,
   "metadata": {},
   "outputs": [],
   "source": [
    "listC = ['one', 2, 3.0, [4, 'five']]\n",
    "print(listC)"
   ]
  },
  {
   "cell_type": "code",
   "execution_count": null,
   "metadata": {},
   "outputs": [],
   "source": [
    "listC[3][0] = 4.0\n",
    "print(listC)"
   ]
  },
  {
   "cell_type": "markdown",
   "metadata": {},
   "source": [
    "Lists can be combined using the '+' concatenation operator"
   ]
  },
  {
   "cell_type": "code",
   "execution_count": null,
   "metadata": {},
   "outputs": [],
   "source": [
    "listD = [10, 20, 30]\n",
    "listE = [5, 15, 25]\n",
    "listF = listD + listE\n",
    "print(listF)"
   ]
  },
  {
   "cell_type": "code",
   "execution_count": null,
   "metadata": {},
   "outputs": [],
   "source": [
    "len(listF)"
   ]
  },
  {
   "cell_type": "markdown",
   "metadata": {},
   "source": [
    "## Lists and iteration are BFFs\n",
    "\n",
    "![BFFs](https://media4.giphy.com/media/wV5wNlLFaQaE8/giphy.gif?cid=ecf05e47qcsfww78rti6lzli0f2fxwzybfr629o0degq50vs&rid=giphy.gif)\n",
    "\n",
    "The affinity is straightforward: loops allow computation over many things over and over, lists contain many things..."
   ]
  },
  {
   "cell_type": "code",
   "execution_count": null,
   "metadata": {},
   "outputs": [],
   "source": [
    "for item in listC :\n",
    "    print(item)"
   ]
  },
  {
   "cell_type": "markdown",
   "metadata": {},
   "source": [
    "We can do even more complex things, like adding elements of two lists together:"
   ]
  },
  {
   "cell_type": "code",
   "execution_count": null,
   "metadata": {},
   "outputs": [],
   "source": [
    "listG = []\n",
    "index = 0\n",
    "while index < len(listD) :\n",
    "    listG[index] = listD[index] + listE[index]\n",
    "    index += 1\n",
    "print(listG)"
   ]
  },
  {
   "cell_type": "markdown",
   "metadata": {},
   "source": [
    "Wait!  Why can't we do this????  What happened???\n",
    "\n",
    "![faceplant](https://media4.giphy.com/media/dQk9Br7mW3PfUaLW6F/giphy.gif)"
   ]
  },
  {
   "cell_type": "code",
   "execution_count": null,
   "metadata": {},
   "outputs": [],
   "source": [
    "listG = []\n",
    "index = 0\n",
    "while index < len(listD) :\n",
    "    listG.append(listD[index] + listE[index])\n",
    "    index += 1\n",
    "print(listG)"
   ]
  },
  {
   "cell_type": "markdown",
   "metadata": {},
   "source": [
    "## Lists have a lot of built in functions\n",
    "\n",
    "But these are not *actually* called *functions* when they are performed as an action on an object.  In this case we call these *methods*:\n",
    "\n",
    "![diff_image](https://365datascience.com/wp-content/uploads/2018/07/image12-min-6.png)\n",
    "\n",
    "(image from 365datascience.com)"
   ]
  },
  {
   "cell_type": "code",
   "execution_count": null,
   "metadata": {},
   "outputs": [],
   "source": [
    "listH = ['banana', 'apple', 'grape', 'strawberry']\n",
    "print(listH)\n",
    "listH.sort()\n",
    "print(listH)"
   ]
  },
  {
   "cell_type": "code",
   "execution_count": null,
   "metadata": {},
   "outputs": [],
   "source": [
    "fruitFromListH = listH.pop(2)"
   ]
  },
  {
   "cell_type": "code",
   "execution_count": null,
   "metadata": {},
   "outputs": [],
   "source": [
    "print(listH)\n",
    "print(fruitFromListH)"
   ]
  },
  {
   "cell_type": "markdown",
   "metadata": {},
   "source": [
    "Lots of other methods on lists, check them out here: https://www.w3schools.com/python/python_ref_list.asp"
   ]
  },
  {
   "cell_type": "code",
   "execution_count": null,
   "metadata": {},
   "outputs": [],
   "source": [
    "stringA = 'LIS 2030'\n",
    "listOfStringA = list(stringA)\n",
    "print(listOfStringA)"
   ]
  },
  {
   "cell_type": "code",
   "execution_count": null,
   "metadata": {},
   "outputs": [],
   "source": [
    "listOfSplitA = stringA.split(' ')\n",
    "print(listOfSplitA)"
   ]
  },
  {
   "cell_type": "markdown",
   "metadata": {},
   "source": [
    "# Putting it all Together\n",
    "\n",
    "Looping over lists of data and doing some kind of processing is a very common practice in Python. The example below puts together everything we have learned to create a \"filter function\" that does some data cleaning."
   ]
  },
  {
   "cell_type": "code",
   "execution_count": null,
   "metadata": {},
   "outputs": [],
   "source": [
    "# create a list of words we want to process\n",
    "word_list = ['zero','one', 'two', 'three', 'four', 'five', 'six', 'seven']\n"
   ]
  },
  {
   "cell_type": "markdown",
   "metadata": {},
   "source": [
    "What we want to do is create a function that takes a list as an *argument* and then *returns* a new list of words whose length, i.e. number of letters, is even. So for example the word \"one\" has three letters so it should be remove, but the word \"zero\" has four letters so it is odd.\n",
    "\n",
    "This is an example of a looping pattern that *filters* out some of the values in a list based on some criteria.\n",
    "\n",
    "* Define a function that takes a list\n",
    "* Create a new list for storing filtered values\n",
    "* Loop over the input list\n",
    "* Create a conditional statement based on our filtering criteria\n",
    "* Add items to the new list when the criteria is True\n",
    "* Return the new list once the loop completes"
   ]
  },
  {
   "cell_type": "code",
   "execution_count": null,
   "metadata": {},
   "outputs": [],
   "source": [
    "# define our filter function\n",
    "def removeOddWords(listOfWords) :\n",
    "    # create a new list for storing the even words\n",
    "    evenListOfWords = []\n",
    "    # loop over the input list\n",
    "    for word in listOfWords :\n",
    "        # if the length of a word modulo 2 is zero then it has an even number of letters\n",
    "        if len(word) % 2 == 0 :\n",
    "            # add the even word to our new list\n",
    "            evenListOfWords.append(word)\n",
    "    # once the list is complete, return our new list\n",
    "    return evenListOfWords"
   ]
  },
  {
   "cell_type": "markdown",
   "metadata": {},
   "source": [
    "So now we have a \"filter function\" called `removeOddWords`. We can now use it to filter our `word_list`. Make sure to save the results by assigning the function's output, the *return* value, into a new variable. Otherwise the output will be lost in time and space.  "
   ]
  },
  {
   "cell_type": "code",
   "execution_count": null,
   "metadata": {},
   "outputs": [],
   "source": [
    "# filter the word_list and save the results in a new variable\n",
    "even_word_list = removeOddWords(word_list)\n",
    "# print our original input list\n",
    "print(word_list)\n",
    "\n",
    "# print the contents of even_word_list\n",
    "print(even_word_list)"
   ]
  },
  {
   "cell_type": "markdown",
   "metadata": {
    "tags": []
   },
   "source": [
    "It worked!\n",
    "\n",
    "![Kermit the frog celebrating](https://media0.giphy.com/media/DYH297XiCS2Ck/giphy.gif?cid=ecf05e47oglhebowd8w9syojmlqnv857x6ph5atwjt0zzdpt&rid=giphy.gif&ct=g)\n",
    "\n",
    "This is a common pattern for processing data in Python. For further readings look at the Loop Patterns section in chapter 5 of [Pythong for Everybody](https://www.py4e.com/html3/05-iterations) for further examples."
   ]
  }
 ],
 "metadata": {
  "kernelspec": {
   "display_name": "Python 3 (ipykernel)",
   "language": "python",
   "name": "python3"
  },
  "language_info": {
   "codemirror_mode": {
    "name": "ipython",
    "version": 3
   },
   "file_extension": ".py",
   "mimetype": "text/x-python",
   "name": "python",
   "nbconvert_exporter": "python",
   "pygments_lexer": "ipython3",
   "version": "3.8.8"
  }
 },
 "nbformat": 4,
 "nbformat_minor": 4
}
