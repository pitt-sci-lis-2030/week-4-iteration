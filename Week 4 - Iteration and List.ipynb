{
 "cells": [
  {
   "cell_type": "markdown",
   "metadata": {},
   "source": [
    "# Iteration"
   ]
  },
  {
   "cell_type": "code",
   "execution_count": null,
   "metadata": {},
   "outputs": [],
   "source": [
    "n = 5\n",
    "if n >=  0 :\n",
    "    print(n)"
   ]
  },
  {
   "cell_type": "code",
   "execution_count": null,
   "metadata": {},
   "outputs": [],
   "source": [
    "n = 5\n",
    "while n >=  0 :\n",
    "    print(n)\n",
    "    n -= 1"
   ]
  },
  {
   "cell_type": "code",
   "execution_count": null,
   "metadata": {},
   "outputs": [],
   "source": [
    "totalBottlesOfBeer = 99\n",
    "stopDrinkingAt = 95\n",
    "\n",
    "while totalBottlesOfBeer > stopDrinkingAt :\n",
    "    print(str(totalBottlesOfBeer) +' bottles of beer on the wall, ' + str(totalBottlesOfBeer) + ' bottles of beer.')\n",
    "    print('Take one down and pass it around, ' + str(totalBottlesOfBeer - 1) + ' bottles of beer on the wall.')\n",
    "    totalBottlesOfBeer -= 1"
   ]
  },
  {
   "cell_type": "markdown",
   "metadata": {},
   "source": [
    "## Careful to not get stuck in an infinite loop!"
   ]
  },
  {
   "cell_type": "code",
   "execution_count": null,
   "metadata": {},
   "outputs": [],
   "source": [
    "n = 10\n",
    "while True :\n",
    "    print(n)\n",
    "    n -= 1\n",
    "Print('Done!')"
   ]
  },
  {
   "cell_type": "markdown",
   "metadata": {},
   "source": [
    "Breaks can also control when a loop stops:"
   ]
  },
  {
   "cell_type": "code",
   "execution_count": null,
   "metadata": {},
   "outputs": [],
   "source": [
    "n = 10\n",
    "while True :\n",
    "    print (n)\n",
    "    n-= 1\n",
    "    if n < 0 :\n",
    "        break\n",
    "print('Done!')"
   ]
  },
  {
   "cell_type": "markdown",
   "metadata": {},
   "source": [
    "Continue can also be used for jumping back to the start of the loop, ignoring remaining code in the block:"
   ]
  },
  {
   "cell_type": "code",
   "execution_count": null,
   "metadata": {},
   "outputs": [],
   "source": [
    "while True :\n",
    "    thereYet = input('Are we there yet? ')\n",
    "    \n",
    "    if(thereYet == 'no' or thereYet == 'No' or thereYet == 'NO') :\n",
    "        continue\n",
    "    \n",
    "    break"
   ]
  },
  {
   "cell_type": "markdown",
   "metadata": {},
   "source": [
    "For loops iterate over content that is in a variable, list, or object:"
   ]
  },
  {
   "cell_type": "code",
   "execution_count": null,
   "metadata": {},
   "outputs": [],
   "source": [
    "for x in \"banana\":\n",
    "  print(x)"
   ]
  },
  {
   "cell_type": "code",
   "execution_count": null,
   "metadata": {},
   "outputs": [],
   "source": [
    "for x in range(6):\n",
    "  print(x)"
   ]
  },
  {
   "cell_type": "code",
   "execution_count": null,
   "metadata": {},
   "outputs": [],
   "source": [
    "for x in range(2,6):\n",
    "  print(x)"
   ]
  },
  {
   "cell_type": "code",
   "execution_count": null,
   "metadata": {},
   "outputs": [],
   "source": [
    "for x in range(0, 100, 10):\n",
    "  print(x)"
   ]
  },
  {
   "cell_type": "markdown",
   "metadata": {},
   "source": []
  },
  {
   "cell_type": "markdown",
   "metadata": {},
   "source": [
    "# Lists"
   ]
  },
  {
   "cell_type": "code",
   "execution_count": null,
   "metadata": {},
   "outputs": [],
   "source": [
    "listA = [1, 2, 3, 4, 5]\n",
    "print(listA)"
   ]
  },
  {
   "cell_type": "code",
   "execution_count": null,
   "metadata": {},
   "outputs": [],
   "source": [
    "print(listA[3])"
   ]
  },
  {
   "cell_type": "markdown",
   "metadata": {},
   "source": [
    "Unlike native types, lists are mutable!"
   ]
  },
  {
   "cell_type": "code",
   "execution_count": null,
   "metadata": {},
   "outputs": [],
   "source": [
    "print(listA)"
   ]
  },
  {
   "cell_type": "code",
   "execution_count": null,
   "metadata": {},
   "outputs": [],
   "source": [
    "listA[3] = 12\n",
    "print(listA)"
   ]
  },
  {
   "cell_type": "markdown",
   "metadata": {},
   "source": [
    "Unique to Python, lists can be of different value types..."
   ]
  },
  {
   "cell_type": "code",
   "execution_count": null,
   "metadata": {},
   "outputs": [],
   "source": [
    "listB = ['frog', 30.4, 10, 'Mexico']\n",
    "print(listB)"
   ]
  },
  {
   "cell_type": "markdown",
   "metadata": {},
   "source": [
    "Lists can also contain other lists..."
   ]
  },
  {
   "cell_type": "code",
   "execution_count": null,
   "metadata": {},
   "outputs": [],
   "source": [
    "listC = ['one', 2, 3.0, [4, 'five']]\n",
    "print(listC)"
   ]
  },
  {
   "cell_type": "code",
   "execution_count": null,
   "metadata": {},
   "outputs": [],
   "source": [
    "listC[3][0] = 4.0\n",
    "print(listC)"
   ]
  },
  {
   "source": [
    "Lists can be combined using the '+' concatenation operator"
   ],
   "cell_type": "markdown",
   "metadata": {}
  },
  {
   "cell_type": "code",
   "execution_count": null,
   "metadata": {},
   "outputs": [],
   "source": [
    "listD = [10, 20, 30]\n",
    "listE = [5, 15, 25]\n",
    "listF = listD + listE\n",
    "print(listF)"
   ]
  },
  {
   "cell_type": "code",
   "execution_count": null,
   "metadata": {},
   "outputs": [],
   "source": [
    "len(listF)"
   ]
  },
  {
   "source": [
    "## Lists and interation are BFFs\n",
    "\n",
    "![BFFs](https://media4.giphy.com/media/wV5wNlLFaQaE8/giphy.gif?cid=ecf05e47qcsfww78rti6lzli0f2fxwzybfr629o0degq50vs&rid=giphy.gif)"
   ],
   "cell_type": "markdown",
   "metadata": {}
  },
  {
   "cell_type": "code",
   "execution_count": null,
   "metadata": {},
   "outputs": [],
   "source": [
    "for item in listC :\n",
    "    print(item)"
   ]
  },
  {
   "cell_type": "code",
   "execution_count": null,
   "metadata": {},
   "outputs": [],
   "source": [
    "listG = []\n",
    "index = 0\n",
    "while index < len(listD) :\n",
    "    listG[index] = listD[index] + listE[index]\n",
    "    index += 1\n",
    "print(listG)"
   ]
  },
  {
   "source": [
    "Wait!  Why can't we do this????  What happened???\n",
    "\n",
    "![faceplant](https://media4.giphy.com/media/dQk9Br7mW3PfUaLW6F/giphy.gif)"
   ],
   "cell_type": "markdown",
   "metadata": {}
  },
  {
   "cell_type": "code",
   "execution_count": null,
   "metadata": {},
   "outputs": [],
   "source": [
    "listG = []\n",
    "index = 0\n",
    "while index < len(listD) :\n",
    "    listG.append(listD[index] + listE[index])\n",
    "    index += 1\n",
    "print(listG)"
   ]
  },
  {
   "cell_type": "code",
   "execution_count": null,
   "metadata": {},
   "outputs": [],
   "source": []
  },
  {
   "cell_type": "code",
   "execution_count": null,
   "metadata": {},
   "outputs": [],
   "source": [
    "listH = ['banana', 'apple', 'grape', 'strawberry']\n",
    "print(listH)\n",
    "listH.sort()\n",
    "print(listH)"
   ]
  },
  {
   "cell_type": "code",
   "execution_count": null,
   "metadata": {},
   "outputs": [],
   "source": [
    "fruitFromListH = listH.pop(2)"
   ]
  },
  {
   "cell_type": "code",
   "execution_count": null,
   "metadata": {},
   "outputs": [],
   "source": [
    "print(listH)\n",
    "print(fruitFromListH)"
   ]
  },
  {
   "cell_type": "markdown",
   "metadata": {},
   "source": [
    "Lots of other methods on lists, check them out here: https://www.w3schools.com/python/python_ref_list.asp"
   ]
  },
  {
   "cell_type": "code",
   "execution_count": null,
   "metadata": {},
   "outputs": [],
   "source": [
    "stringA = 'LIS 2030'\n",
    "listOfStringA = list(stringA)\n",
    "print(listOfStringA)"
   ]
  },
  {
   "cell_type": "code",
   "execution_count": null,
   "metadata": {},
   "outputs": [],
   "source": [
    "listOfSplitA = stringA.split(' ')\n",
    "print(listOfSplitA)"
   ]
  },
  {
   "cell_type": "markdown",
   "metadata": {},
   "source": [
    "## Lists are tricky when it comes to how they are referred to..."
   ]
  },
  {
   "cell_type": "code",
   "execution_count": null,
   "metadata": {},
   "outputs": [],
   "source": [
    "a = [1, 2, 3]\n",
    "b = a\n",
    "print(a)\n",
    "print(b)"
   ]
  },
  {
   "cell_type": "code",
   "execution_count": null,
   "metadata": {},
   "outputs": [],
   "source": [
    "b.pop(0)"
   ]
  },
  {
   "cell_type": "code",
   "execution_count": null,
   "metadata": {},
   "outputs": [],
   "source": [
    "print(b)"
   ]
  },
  {
   "cell_type": "code",
   "execution_count": null,
   "metadata": {},
   "outputs": [],
   "source": [
    "print(a)"
   ]
  },
  {
   "cell_type": "code",
   "execution_count": null,
   "metadata": {},
   "outputs": [],
   "source": [
    "a = [1,2,3]\n",
    "b = a.copy()"
   ]
  },
  {
   "cell_type": "code",
   "execution_count": null,
   "metadata": {},
   "outputs": [],
   "source": [
    "b.pop(0)"
   ]
  },
  {
   "cell_type": "code",
   "execution_count": null,
   "metadata": {},
   "outputs": [],
   "source": [
    "print(b)\n",
    "print(a)"
   ]
  },
  {
   "cell_type": "markdown",
   "metadata": {},
   "source": [
    "## This is that \"pass by reference\" thing I've been talking about...\n",
    "\n",
    "It's a thing with functions too"
   ]
  },
  {
   "cell_type": "code",
   "execution_count": null,
   "metadata": {},
   "outputs": [],
   "source": [
    "def popTop(inList) :\n",
    "    inList.pop(0)"
   ]
  },
  {
   "cell_type": "code",
   "execution_count": null,
   "metadata": {},
   "outputs": [],
   "source": [
    "a = [1,2,3]\n",
    "\n",
    "popTop(a)\n",
    "\n",
    "print(a)"
   ]
  },
  {
   "cell_type": "markdown",
   "metadata": {},
   "source": [
    "## But this doesn't hold if your function also creates a new list, as it does with slice"
   ]
  },
  {
   "cell_type": "code",
   "execution_count": null,
   "metadata": {},
   "outputs": [],
   "source": [
    "def popTop2(inList) :\n",
    "    inList = inList[1:]"
   ]
  },
  {
   "cell_type": "code",
   "execution_count": null,
   "metadata": {},
   "outputs": [],
   "source": [
    "a = [1,2,3]\n",
    "\n",
    "popTop2(a)\n",
    "\n",
    "print(a)"
   ]
  },
  {
   "source": [
    "Yes... I know...\n",
    "\n",
    "![mindblown](https://media2.giphy.com/media/SJX3gbZ2dbaEhU92Pu/giphy.gif?cid=ecf05e478z6m93b5ho1ihmklli7g7nj4quxj7klhfah80m7z&rid=giphy.gif)"
   ],
   "cell_type": "markdown",
   "metadata": {}
  },
  {
   "source": [
    "# An integrated example\n",
    "\n",
    "## spoiler, it's not always BFF type of relationship"
   ],
   "cell_type": "markdown",
   "metadata": {}
  },
  {
   "cell_type": "code",
   "execution_count": null,
   "metadata": {},
   "outputs": [],
   "source": [
    "def removeOddWords(listOfWords) :\n",
    "    for word in listOfWords :\n",
    "        if len(word) % 2 != 0 :\n",
    "            listOfWords.remove(word)\n",
    "    return listOfWords\n",
    "\n",
    "testList = ['one', 'two', 'three', 'four', 'five', 'six', 'seven']\n",
    "\n",
    "print(removeOddWords(testList))"
   ]
  },
  {
   "source": [
    "![huh](https://media.giphy.com/media/LyJ6KPlrFdKnK/giphy.gif \"huh\")\n",
    "\n",
    "So what is going on here???"
   ],
   "cell_type": "markdown",
   "metadata": {}
  },
  {
   "source": [
    "Memory is cheap, you're always better off creating copies in modification of that involved iteration..."
   ],
   "cell_type": "markdown",
   "metadata": {}
  },
  {
   "cell_type": "code",
   "execution_count": null,
   "metadata": {},
   "outputs": [],
   "source": [
    "def removeOddWords(listOfWords) :\n",
    "    evenListOfWords = []\n",
    "    for word in listOfWords :\n",
    "        if len(word) % 2 == 0 :\n",
    "            evenListOfWords.append(word)\n",
    "    return evenListOfWords\n",
    "\n",
    "testList = ['one', 'two', 'three', 'four', 'five', 'six', 'seven']\n",
    "\n",
    "print(removeOddWords(testList))"
   ]
  },
  {
   "cell_type": "code",
   "execution_count": null,
   "metadata": {},
   "outputs": [],
   "source": []
  }
 ],
 "metadata": {
  "kernelspec": {
   "display_name": "Python 3",
   "language": "python",
   "name": "python3"
  },
  "language_info": {
   "codemirror_mode": {
    "name": "ipython",
    "version": 3
   },
   "file_extension": ".py",
   "mimetype": "text/x-python",
   "name": "python",
   "nbconvert_exporter": "python",
   "pygments_lexer": "ipython3",
   "version": "3.8.2-final"
  }
 },
 "nbformat": 4,
 "nbformat_minor": 2
}