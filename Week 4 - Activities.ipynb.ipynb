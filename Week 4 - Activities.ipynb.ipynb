{
 "cells": [
  {
   "cell_type": "markdown",
   "metadata": {},
   "source": [
    "# Week 4 - Iteration and List Activities\n",
    "\n",
    "This notebook contains some in-class activites and demonstrations of various computational tasks you can accomplish with loops and lists. "
   ]
  },
  {
   "cell_type": "markdown",
   "metadata": {},
   "source": [
    "1. Make a loop that counts to 10 and prints the number as it is counting."
   ]
  },
  {
   "cell_type": "code",
   "execution_count": 1,
   "metadata": {},
   "outputs": [
    {
     "name": "stdout",
     "output_type": "stream",
     "text": [
      "0\n",
      "1\n",
      "2\n",
      "3\n",
      "4\n",
      "5\n",
      "6\n",
      "7\n",
      "8\n",
      "9\n",
      "10\n",
      "I am so done with counting.\n"
     ]
    }
   ],
   "source": [
    "iterator = 0\n",
    "while iterator <=10:\n",
    "    print(iterator)\n",
    "    iterator = iterator + 1\n",
    "print(\"I am so done with counting.\")"
   ]
  },
  {
   "cell_type": "markdown",
   "metadata": {},
   "source": [
    "* Make a loop that counts to an arbitray number and prints the numbers while counting"
   ]
  },
  {
   "cell_type": "code",
   "execution_count": 1,
   "metadata": {},
   "outputs": [
    {
     "name": "stdout",
     "output_type": "stream",
     "text": [
      "0\n",
      "1\n",
      "2\n",
      "3\n",
      "4\n",
      "5\n",
      "6\n",
      "7\n",
      "8\n",
      "9\n",
      "10\n",
      "11\n",
      "12\n",
      "13\n",
      "14\n",
      "15\n",
      "16\n",
      "17\n",
      "18\n",
      "19\n",
      "20\n",
      "21\n",
      "22\n",
      "23\n",
      "Can I stop now?\n"
     ]
    }
   ],
   "source": [
    "iterator = 0\n",
    "number = 23\n",
    "while iterator <= number:\n",
    "    print(iterator)\n",
    "    iterator += 1\n",
    "print(\"Can I stop now?\")"
   ]
  },
  {
   "cell_type": "markdown",
   "metadata": {},
   "source": [
    "Make a loop that counts to a really big number and only prints every 100,000 numbers"
   ]
  },
  {
   "cell_type": "code",
   "execution_count": 6,
   "metadata": {},
   "outputs": [
    {
     "name": "stdout",
     "output_type": "stream",
     "text": [
      "0\n",
      "100000\n",
      "200000\n",
      "300000\n",
      "400000\n",
      "500000\n",
      "600000\n",
      "700000\n",
      "800000\n",
      "900000\n",
      "Whew, so much counting!\n"
     ]
    }
   ],
   "source": [
    "iterator = 0\n",
    "big_number = 1000000\n",
    "\n",
    "while iterator < big_number:\n",
    "    \n",
    "    if iterator % 100000 == 0:\n",
    "        print(iterator)\n",
    "    iterator += 1\n",
    "print(\"Whew, so much counting!\")"
   ]
  },
  {
   "cell_type": "markdown",
   "metadata": {},
   "source": [
    "Loop over a list of names, wishing each a happy birthday."
   ]
  },
  {
   "cell_type": "code",
   "execution_count": 1,
   "metadata": {},
   "outputs": [
    {
     "name": "stdout",
     "output_type": "stream",
     "text": [
      "Happy birthday Harry!\n",
      "Happy birthday Barry!\n",
      "Happy birthday Gary!\n",
      "Happy birthday Mary!\n",
      "Happy birthday Pat!\n"
     ]
    }
   ],
   "source": [
    "friends = [\"Harry\", \"Barry\", \"Gary\", \"Mary\", \"Pat\"]\n",
    "\n",
    "for friend in friends:\n",
    "    print(\"Happy birthday \" + friend + \"!\")"
   ]
  },
  {
   "cell_type": "markdown",
   "metadata": {},
   "source": [
    "Your friend Gary snubbed you recently, now you no longer want to wish him happy birthday."
   ]
  },
  {
   "cell_type": "code",
   "execution_count": 2,
   "metadata": {},
   "outputs": [
    {
     "name": "stdout",
     "output_type": "stream",
     "text": [
      "Happy Birthday Harry\n",
      "Happy Birthday Barry\n",
      "Happy Birthday Mary\n",
      "Happy Birthday Pat\n"
     ]
    }
   ],
   "source": [
    "friends = [\"Harry\", \"Barry\", \"Gary\", \"Mary\", \"Pat\"]\n",
    "frenemy = \"Gary\"\n",
    "\n",
    "for friend in friends:\n",
    "    if friend is frenemy:\n",
    "        continue\n",
    "    else:\n",
    "        print(\"Happy Birthday\", friend)"
   ]
  },
  {
   "cell_type": "markdown",
   "metadata": {},
   "source": [
    "Given a list of dungeon and dragons names, count the number of vowels in each name."
   ]
  },
  {
   "cell_type": "code",
   "execution_count": 8,
   "metadata": {},
   "outputs": [
    {
     "name": "stdout",
     "output_type": "stream",
     "text": [
      "Rade has 2 vowels.\n",
      "Nendel has 2 vowels.\n",
      "Arilas has 2 vowels.\n",
      "Aithien has 3 vowels.\n",
      "Aradric has 2 vowels.\n",
      "Trereh has 2 vowels.\n",
      "Neamir has 3 vowels.\n",
      "Shicyn has 1 vowels.\n",
      "Cadi has 2 vowels.\n",
      "Aitis has 2 vowels.\n",
      "Renalya has 3 vowels.\n",
      "Addyn has 0 vowels.\n",
      "Hidette has 3 vowels.\n",
      "Nala has 2 vowels.\n",
      "Sala has 2 vowels.\n",
      "Keaysa has 3 vowels.\n",
      "Ithon has 1 vowels.\n",
      "Neraen has 3 vowels.\n",
      "Pirka has 2 vowels.\n",
      "Arileni has 3 vowels.\n"
     ]
    }
   ],
   "source": [
    "vowels = [\"a\", \"e\", \"i\", \"o\", \"u\"]\n",
    "dnd_names = ['Rade', 'Nendel', 'Arilas', 'Aithien', 'Aradric', 'Trereh', 'Neamir', 'Shicyn', 'Cadi', 'Aitis', 'Renalya', 'Addyn', 'Hidette', 'Nala', 'Sala', 'Keaysa', 'Ithon', 'Neraen', 'Pirka', 'Arileni']\n",
    "\n",
    "for name in dnd_names:\n",
    "    \n",
    "    vowels_in_name = 0\n",
    "    for letter in name:\n",
    "        if letter in vowels:\n",
    "            vowels_in_name += 1\n",
    "        else:\n",
    "            continue\n",
    "    print(name, \"has\", vowels_in_name, \"vowels.\")\n",
    "    "
   ]
  },
  {
   "cell_type": "code",
   "execution_count": 10,
   "metadata": {},
   "outputs": [
    {
     "data": {
      "text/plain": [
       "'rage'"
      ]
     },
     "execution_count": 10,
     "metadata": {},
     "output_type": "execute_result"
    }
   ],
   "source": [
    "\"Rage\".lower()"
   ]
  },
  {
   "cell_type": "code",
   "execution_count": 12,
   "metadata": {},
   "outputs": [
    {
     "name": "stdout",
     "output_type": "stream",
     "text": [
      "Rade has 2 vowels.\n",
      "Nendel has 2 vowels.\n",
      "Arilas has 3 vowels.\n",
      "Aithien has 4 vowels.\n",
      "Aradric has 3 vowels.\n",
      "Trereh has 2 vowels.\n",
      "Neamir has 3 vowels.\n",
      "Shicyn has 1 vowels.\n",
      "Cadi has 2 vowels.\n",
      "Aitis has 3 vowels.\n",
      "Renalya has 3 vowels.\n",
      "Addyn has 1 vowels.\n",
      "Hidette has 3 vowels.\n",
      "Nala has 2 vowels.\n",
      "Sala has 2 vowels.\n",
      "Keaysa has 3 vowels.\n",
      "Ithon has 2 vowels.\n",
      "Neraen has 3 vowels.\n",
      "Pirka has 2 vowels.\n",
      "Arileni has 4 vowels.\n"
     ]
    }
   ],
   "source": [
    "vowels = [\"a\", \"e\", \"i\", \"o\", \"u\"]\n",
    "dnd_names = ['Rade', 'Nendel', 'Arilas', 'Aithien', 'Aradric', 'Trereh', 'Neamir', 'Shicyn', 'Cadi', 'Aitis', 'Renalya', 'Addyn', 'Hidette', 'Nala', 'Sala', 'Keaysa', 'Ithon', 'Neraen', 'Pirka', 'Arileni']\n",
    "\n",
    "for name in dnd_names:\n",
    "    \n",
    "    vowels_in_name = 0\n",
    "    for letter in name.lower():\n",
    "        if letter in vowels:\n",
    "            vowels_in_name += 1\n",
    "        else:\n",
    "            continue\n",
    "    print(name, \"has\", vowels_in_name, \"vowels.\")\n",
    "    "
   ]
  },
  {
   "cell_type": "code",
   "execution_count": null,
   "metadata": {},
   "outputs": [],
   "source": []
  }
 ],
 "metadata": {
  "kernelspec": {
   "display_name": "Python 3",
   "language": "python",
   "name": "python3"
  },
  "language_info": {
   "codemirror_mode": {
    "name": "ipython",
    "version": 3
   },
   "file_extension": ".py",
   "mimetype": "text/x-python",
   "name": "python",
   "nbconvert_exporter": "python",
   "pygments_lexer": "ipython3",
   "version": "3.6.6+"
  }
 },
 "nbformat": 4,
 "nbformat_minor": 2
}
